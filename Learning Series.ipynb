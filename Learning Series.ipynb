{
 "cells": [
  {
   "cell_type": "code",
   "execution_count": 1,
   "id": "9587e20f",
   "metadata": {},
   "outputs": [],
   "source": [
    "import pandas as pd\n",
    "import numpy as np\n",
    "\n",
    "\n"
   ]
  },
  {
   "cell_type": "code",
   "execution_count": 1,
   "id": "b8486d48",
   "metadata": {},
   "outputs": [
    {
     "name": "stdout",
     "output_type": "stream",
     "text": [
      "0 A\n",
      "1 B\n",
      "2 C\n"
     ]
    }
   ],
   "source": [
    "a = [1]\n",
    "a.append([2,3,4,5])\n",
    "len(a)\n",
    "\"hello mike\".split()\n",
    "\n",
    "a =  {'a','b'} &{'a'}\n",
    "\n",
    "type(set([1,2,3]))\n",
    "a\n",
    "\n",
    "A=((11,12),[21,22])\n",
    "A[1]\n",
    "\n",
    "\n",
    "A=((1),[2,3],[4])\n",
    "A[2][0]\n",
    "\n",
    "L = [1]\n",
    "L.append(['a','b'])\n",
    "\n",
    "\n",
    "\n",
    "L\n",
    "\n",
    "\n",
    "\n",
    "A=[\"hard rock\",10,1.2]\n",
    "del(A[1])\n",
    "A\n",
    "\n",
    "len((\"disco\",10)) \n",
    "\n",
    "for i,x in enumerate(['A','B','C']):\n",
    "    print(i,x)"
   ]
  },
  {
   "cell_type": "code",
   "execution_count": null,
   "id": "e5c4348c",
   "metadata": {},
   "outputs": [],
   "source": []
  }
 ],
 "metadata": {
  "kernelspec": {
   "display_name": "Python 3 (ipykernel)",
   "language": "python",
   "name": "python3"
  },
  "language_info": {
   "codemirror_mode": {
    "name": "ipython",
    "version": 3
   },
   "file_extension": ".py",
   "mimetype": "text/x-python",
   "name": "python",
   "nbconvert_exporter": "python",
   "pygments_lexer": "ipython3",
   "version": "3.9.7"
  }
 },
 "nbformat": 4,
 "nbformat_minor": 5
}
